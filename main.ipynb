{
  "nbformat": 4,
  "nbformat_minor": 0,
  "metadata": {
    "colab": {
      "name": "Untitled",
      "provenance": [],
      "collapsed_sections": []
    },
    "kernelspec": {
      "name": "python3",
      "display_name": "Python 3"
    },
    "accelerator": "GPU"
  },
  "cells": [
    {
      "cell_type": "code",
      "metadata": {
        "id": "fA8ktSE_nO2v",
        "colab_type": "code",
        "colab": {
          "base_uri": "https://localhost:8080/",
          "height": 338
        },
        "outputId": "cb15007d-a28c-467f-e03c-9b060bbc6cc6"
      },
      "source": [
        "#This is code By Candidate Chinmay Gopal\n",
        "import numpy as np\n",
        "import pandas as pd\n",
        "from datetime import datetime\n",
        "\n",
        "p = pd.read_csv('/content/drive/My Drive/train_csv.csv', header = 0, index_col = 1, parse_dates = True)\n",
        "p.drop(['id'],axis = 1,inplace = True)\n",
        "test=pd.read_csv('/content/drive/My Drive/test_csv.csv', header = 0, index_col = 1, parse_dates = True)\n",
        "\n",
        "rolling = predice['feature'].rolling(window = 2) \n",
        "rolling_mean =  rolling.mean()\n",
        "out = pd.DataFrame( {'Actual':p.feature, 'Forcasted':rolling_mean})\n",
        "out .dropna(axis = 0, inplace = True)\n",
        "print(\"Forcasted Data\")\n",
        "print(out.Forcasted)\n",
        "r = np.sqrt(mean_squared_error(out.Actual, out.Forcasted))\n",
        "print(\"\\n\\n Accuracy measures \")\n",
        "print('RMSE: %.3f' % r)\n",
        "\n",
        "\n",
        "\n"
      ],
      "execution_count": 37,
      "outputs": [
        {
          "output_type": "stream",
          "text": [
            "Forcasted Data\n",
            "time\n",
            "2019-03-19 00:00:10    147.950\n",
            "2019-03-19 00:00:20     74.230\n",
            "2019-03-19 00:00:30    175.640\n",
            "2019-03-19 00:00:40    155.225\n",
            "2019-03-19 00:00:50    175.890\n",
            "                        ...   \n",
            "2019-03-19 00:12:30    435.575\n",
            "2019-03-19 00:12:40    438.255\n",
            "2019-03-19 00:12:50    267.850\n",
            "2019-03-19 00:13:00    107.095\n",
            "2019-03-19 00:13:10    103.200\n",
            "Name: Forcasted, Length: 79, dtype: float64\n",
            "\n",
            "\n",
            " Accuracy measures \n",
            "RMSE: 53.859\n"
          ],
          "name": "stdout"
        }
      ]
    }
  ]
}
